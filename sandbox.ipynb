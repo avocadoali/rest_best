{
 "cells": [
  {
   "cell_type": "code",
   "execution_count": 111,
   "metadata": {},
   "outputs": [
    {
     "name": "stdout",
     "output_type": "stream",
     "text": [
      "{'1': '', '2': '', '3': '', '4': '', '5': '', '6': '', '7': '', '8': '', '9': '2', 'Submit': 'Submit'}\n"
     ]
    }
   ],
   "source": [
    "dict_cart = {'1': '', '2': '', '3': '', '4': '', '5': '', '6': '', '7': '', '8': '', '9': '2', 'Submit': 'Submit'}\n",
    "print(dict_cart)\n"
   ]
  },
  {
   "cell_type": "code",
   "execution_count": 112,
   "metadata": {},
   "outputs": [
    {
     "name": "stdout",
     "output_type": "stream",
     "text": [
      "[(1, 'Hamburger', 'Main Dishes', 6.0, '180g Patty, housemade burger sauce, salad, tomatoes, pickled cucumber, caramilized onions'), (2, 'Chesseburger', 'Main Dishes', 6.69, '180g Patty, cheddar cheese, housemade burger sauce, salad, tomatoes, pickled cucumber, caramilized onions'), (3, 'Bacon Cheesebuger', 'Main Dishes', 7.1, '180g Patty, bacon, cheddar cheese, housemade burger sauce, salad, tomatoes, pickled cucumber, caramilized onions'), (4, 'Double Cheeseburger', 'Main Dishes', 7.5, '2x 180g Patty, , cheddar cheese, housemade burger sauce, salad, tomatoes, pickled cucumber, caramilized onions'), (5, 'Water', 'Drinks', 3.5, '5l Ensinger Sport'), (6, 'Augustiner Helles', 'Drinks', 4.2, ''), (7, 'French Fries', 'Side Dishes', 3.9, 'Crispy housemade frenchfries'), (8, 'Chicken Wings', 'Side Dishes', 6.2, 'Crispy housemade chicken wings with sweet honey mustard sauce'), (9, 'Ceasar Salad', 'Side Dishes', 4.5, 'Fresh ceasar salad with housemade ceasar dressing')]\n"
     ]
    }
   ],
   "source": [
    "\n",
    "menu = [(1, 'Hamburger', 'Main Dishes', 6.0, '180g Patty, housemade burger sauce, salad, tomatoes, pickled cucumber, caramilized onions'), (2, 'Chesseburger', 'Main Dishes', 6.69, '180g Patty, cheddar cheese, housemade burger sauce, salad, tomatoes, pickled cucumber, caramilized onions'), (3, 'Bacon Cheesebuger', 'Main Dishes', 7.1, '180g Patty, bacon, cheddar cheese, housemade burger sauce, salad, tomatoes, pickled cucumber, caramilized onions'), (4, 'Double Cheeseburger', 'Main Dishes', 7.5, '2x 180g Patty, , cheddar cheese, housemade burger sauce, salad, tomatoes, pickled cucumber, caramilized onions'), (5, 'Water', 'Drinks', 3.5, '5l Ensinger Sport'), (6, 'Augustiner Helles', 'Drinks', 4.2, ''), (7, 'French Fries', 'Side Dishes', 3.9, 'Crispy housemade frenchfries'), (8, 'Chicken Wings', 'Side Dishes', 6.2, 'Crispy housemade chicken wings with sweet honey mustard sauce'), (9, 'Ceasar Salad', 'Side Dishes', 4.5, 'Fresh ceasar salad with housemade ceasar dressing')]\n",
    "print(menu)"
   ]
  },
  {
   "cell_type": "code",
   "execution_count": 113,
   "metadata": {},
   "outputs": [
    {
     "name": "stdout",
     "output_type": "stream",
     "text": [
      "{'9': '2'}\n"
     ]
    }
   ],
   "source": [
    "dict_cart = { k:v for k, v in dict_cart.items() if v }\n",
    "del dict_cart['Submit']\n",
    "print(dict_cart)"
   ]
  },
  {
   "cell_type": "code",
   "execution_count": 114,
   "metadata": {},
   "outputs": [
    {
     "data": {
      "text/plain": [
       "{'9': ['2',\n",
       "  (9,\n",
       "   'Ceasar Salad',\n",
       "   'Side Dishes',\n",
       "   4.5,\n",
       "   'Fresh ceasar salad with housemade ceasar dressing')]}"
      ]
     },
     "execution_count": 114,
     "metadata": {},
     "output_type": "execute_result"
    }
   ],
   "source": [
    "new_menu =  {}\n",
    "for x in dict_cart:\n",
    "    i = int(x)\n",
    "    new_menu[x] = [dict_cart[x], menu[i-1]]\n",
    "\n",
    "new_menu\n"
   ]
  },
  {
   "cell_type": "code",
   "execution_count": null,
   "metadata": {},
   "outputs": [],
   "source": []
  }
 ],
 "metadata": {
  "interpreter": {
   "hash": "e7370f93d1d0cde622a1f8e1c04877d8463912d04d973331ad4851f04de6915a"
  },
  "kernelspec": {
   "display_name": "Python 3.10.2 64-bit",
   "language": "python",
   "name": "python3"
  },
  "language_info": {
   "codemirror_mode": {
    "name": "ipython",
    "version": 3
   },
   "file_extension": ".py",
   "mimetype": "text/x-python",
   "name": "python",
   "nbconvert_exporter": "python",
   "pygments_lexer": "ipython3",
   "version": "3.10.2"
  },
  "orig_nbformat": 4
 },
 "nbformat": 4,
 "nbformat_minor": 2
}
