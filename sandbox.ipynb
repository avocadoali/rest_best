{
 "cells": [
  {
   "cell_type": "code",
   "execution_count": null,
   "metadata": {},
   "outputs": [],
   "source": [
    "dict_cart = {'1': '', '2': '', '3': '', '4': '', '5': '', '6': '', '7': '', '8': '', '9': '2', 'Submit': 'Submit'}\n",
    "print(dict_cart)\n"
   ]
  },
  {
   "cell_type": "code",
   "execution_count": null,
   "metadata": {},
   "outputs": [],
   "source": []
  },
  {
   "cell_type": "code",
   "execution_count": null,
   "metadata": {},
   "outputs": [],
   "source": []
  },
  {
   "cell_type": "code",
   "execution_count": null,
   "metadata": {},
   "outputs": [],
   "source": []
  },
  {
   "cell_type": "code",
   "execution_count": null,
   "metadata": {},
   "outputs": [],
   "source": [
    "\n",
    "menu = [(1, 'Hamburger', 'Main Dishes', 6.0, '180g Patty, housemade burger sauce, salad, tomatoes, pickled cucumber, caramilized onions'), (2, 'Chesseburger', 'Main Dishes', 6.69, '180g Patty, cheddar cheese, housemade burger sauce, salad, tomatoes, pickled cucumber, caramilized onions'), (3, 'Bacon Cheesebuger', 'Main Dishes', 7.1, '180g Patty, bacon, cheddar cheese, housemade burger sauce, salad, tomatoes, pickled cucumber, caramilized onions'), (4, 'Double Cheeseburger', 'Main Dishes', 7.5, '2x 180g Patty, , cheddar cheese, housemade burger sauce, salad, tomatoes, pickled cucumber, caramilized onions'), (5, 'Water', 'Drinks', 3.5, '5l Ensinger Sport'), (6, 'Augustiner Helles', 'Drinks', 4.2, ''), (7, 'French Fries', 'Side Dishes', 3.9, 'Crispy housemade frenchfries'), (8, 'Chicken Wings', 'Side Dishes', 6.2, 'Crispy housemade chicken wings with sweet honey mustard sauce'), (9, 'Ceasar Salad', 'Side Dishes', 4.5, 'Fresh ceasar salad with housemade ceasar dressing')]\n",
    "print(menu)"
   ]
  },
  {
   "cell_type": "code",
   "execution_count": null,
   "metadata": {},
   "outputs": [],
   "source": [
    "dict_cart = { k:v for k, v in dict_cart.items() if v }\n",
    "del dict_cart['Submit']\n",
    "print(dict_cart)"
   ]
  },
  {
   "cell_type": "code",
   "execution_count": null,
   "metadata": {},
   "outputs": [],
   "source": [
    "new_menu =  {}\n",
    "for x in dict_cart:\n",
    "    i = int(x)\n",
    "    new_menu[x] = [dict_cart[x], menu[i-1]]\n",
    "\n",
    "new_menu\n"
   ]
  },
  {
   "cell_type": "code",
   "execution_count": null,
   "metadata": {},
   "outputs": [],
   "source": [
    "list_cart = new_menu\n",
    "print(list_cart)"
   ]
  },
  {
   "cell_type": "code",
   "execution_count": null,
   "metadata": {},
   "outputs": [],
   "source": [
    "print(list_cart['9'][1][1])"
   ]
  },
  {
   "cell_type": "code",
   "execution_count": null,
   "metadata": {},
   "outputs": [],
   "source": [
    "for x in list_cart:\n",
    "    print(x)\n",
    "    n= list_cart[x][0]\n",
    "    print(n)\n",
    "\n",
    "for i in range(int(n)):\n",
    "    print(\"Hello\")"
   ]
  },
  {
   "cell_type": "code",
   "execution_count": null,
   "metadata": {},
   "outputs": [],
   "source": []
  },
  {
   "cell_type": "code",
   "execution_count": null,
   "metadata": {},
   "outputs": [],
   "source": []
  },
  {
   "cell_type": "code",
   "execution_count": null,
   "metadata": {},
   "outputs": [],
   "source": []
  },
  {
   "cell_type": "code",
   "execution_count": null,
   "metadata": {},
   "outputs": [],
   "source": [
    "def submit_order_by_table(table_ID, item_ID):\n",
    "    s = \"INSERT INTO restbesttables (table_id, item_id) VALUES ( \"\n",
    "    s += table_ID \n",
    "    s += \",\"\n",
    "    s += item_ID\n",
    "    s += \");\"\n",
    "    return s\n",
    "\n"
   ]
  },
  {
   "cell_type": "code",
   "execution_count": null,
   "metadata": {},
   "outputs": [],
   "source": [
    "submit_order_by_table(\"234\", \"12\")"
   ]
  },
  {
   "cell_type": "code",
   "execution_count": null,
   "metadata": {},
   "outputs": [],
   "source": []
  },
  {
   "cell_type": "code",
   "execution_count": null,
   "metadata": {},
   "outputs": [],
   "source": [
    "def get_order_of_table(table_ID):\n",
    "    s = \"Select * from restbesttables where table_id='\"\n",
    "    s += table_ID \n",
    "    s += \"');\"\n",
    "    return s"
   ]
  },
  {
   "cell_type": "code",
   "execution_count": null,
   "metadata": {},
   "outputs": [],
   "source": [
    "get_order_of_table(\"234\")"
   ]
  },
  {
   "cell_type": "code",
   "execution_count": null,
   "metadata": {},
   "outputs": [],
   "source": []
  },
  {
   "cell_type": "code",
   "execution_count": null,
   "metadata": {},
   "outputs": [],
   "source": [
    "def get_order_of_table(table_ID):\n",
    "    s = \"with get_all as (\"\n",
    "    s +=\"SELECT rm.id as id, rm.name, rm.type,rm.price \"\n",
    "    s +=\"FROM restbesttables rt, restbestmenu rm \"\n",
    "    s +=\"where rt.table_id = \"\n",
    "    s +=table_ID\n",
    "    s +=\" and rm.id = rt.item_id \"\n",
    "    s +=\"), get_anz as (\"\n",
    "    s +=\"SELECT rm.id iddd, count(*) cnt \"\n",
    "    s +=\"FROM restbesttables rt, restbestmenu rm \"\n",
    "    s +=\"where rt.table_id = \"\n",
    "    s +=table_ID\n",
    "    s +=\" and rm.id = rt.item_id \"\n",
    "    s +=\"group by rm.id\"\n",
    "    s +=\") \"\n",
    "    s +=\"select distinct * \"\n",
    "    s +=\"from get_all a, get_anz b \"\n",
    "    s +=\"where a.id = b.iddd;\"\n",
    "    return s"
   ]
  },
  {
   "cell_type": "code",
   "execution_count": null,
   "metadata": {},
   "outputs": [],
   "source": [
    "get_order_of_table(\"123\")"
   ]
  },
  {
   "cell_type": "markdown",
   "metadata": {},
   "source": [
    "1. get all distinct table\n",
    "2. for each table get orders\n"
   ]
  },
  {
   "cell_type": "code",
   "execution_count": null,
   "metadata": {},
   "outputs": [],
   "source": [
    "    \n",
    "def get_distinct_table():\n",
    "    s = \"select distinct(table_id) from restbesttables\"\n",
    "\n"
   ]
  },
  {
   "cell_type": "code",
   "execution_count": null,
   "metadata": {},
   "outputs": [],
   "source": [
    "table = [(69,), (6969,), (123,)]\n",
    "table"
   ]
  },
  {
   "cell_type": "code",
   "execution_count": null,
   "metadata": {},
   "outputs": [],
   "source": [
    "list = []\n",
    "for x in table:\n",
    "    list.append(x[0])\n",
    "\n",
    "list"
   ]
  },
  {
   "cell_type": "code",
   "execution_count": null,
   "metadata": {},
   "outputs": [],
   "source": [
    "order_of_one_table = [(3, 'Bacon Cheesebuger', 'Main Dishes', 7.1, 3, 4), (5, 'Water', 'Drinks', 3.5, 5, 8), (7, 'French Fries', 'Side Dishes', 3.9, 7, 2), (9, 'Ceasar Salad', 'Side Dishes', 4.5, 9, 2)]\n",
    "dict = {}\n",
    "dict[\"2123\"] = order_of_one_table\n",
    "dict\n",
    "\n"
   ]
  },
  {
   "cell_type": "code",
   "execution_count": null,
   "metadata": {},
   "outputs": [],
   "source": []
  },
  {
   "cell_type": "code",
   "execution_count": null,
   "metadata": {},
   "outputs": [],
   "source": [
    "{'69': [(1, 'Hamburger', 'Main Dishes', 6.0, 1, 1), \n",
    "        (2, 'Chesseburger', 'Main Dishes', 6.69, 2, 1)], \n",
    "'6969': [(1, 'Hamburger', 'Main Dishes', 6.0, 1, 1)], \n",
    "'123': [(3, 'Bacon Cheesebuger', 'Main Dishes', 7.1, 3, 4), \n",
    "        (5, 'Water', 'Drinks', 3.5, 5, 8), \n",
    "        (7, 'French Fries', 'Side Dishes', 3.9, 7, 2), \n",
    "        (9, 'Ceasar Salad', 'Side Dishes', 4.5, 9, 2)]}"
   ]
  },
  {
   "cell_type": "markdown",
   "metadata": {},
   "source": [
    "69\n",
    "[(1, 'Hamburger', 'Main Dishes', 6.0, 1, 1), (2, 'Chesseburger', 'Main Dishes', 6.69, 2, 1)]\n",
    "\n",
    "\n",
    "this ist temp\n",
    "6969\n",
    "[(1, 'Hamburger', 'Main Dishes', 6.0, 1, 1)]\n",
    "\n",
    "\n",
    "this ist temp\n",
    "123\n",
    "[(3, 'Bacon Cheesebuger', 'Main Dishes', 7.1, 3, 4), (5, 'Water', 'Drinks', 3.5, 5, 8), (7, 'French Fries', 'Side Dishes', 3.9, 7, 2), (9, 'Ceasar Salad', 'Side Dishes', 4.5, 9, 2)]\n",
    "\n",
    "\n",
    "[(1, 'Hamburger', 'Main Dishes', 6.0, 1, 1), (2, 'Chesseburger', 'Main Dishes', 6.69, 2, 1)]\n",
    "\n",
    "\n",
    "[(3, 'Bacon Cheesebuger', 'Main Dishes', 7.1, 3, 4), (5, 'Water', 'Drinks', 3.5, 5, 8), (7, 'French Fries', 'Side Dishes', 3.9, 7, 2), (9, 'Ceasar Salad', 'Side Dishes', 4.5, 9, 2)]"
   ]
  },
  {
   "cell_type": "markdown",
   "metadata": {},
   "source": [
    "# Menu List View\n",
    "[(1, 'Hamburger', 'Main Dishes', 6.0, '180g Patty, housemade burger sauce, salad, tomatoes, pickled cucumber, caramilized onions'), \n",
    "(2, 'Chesseburger', 'Main Dishes', 6.69, '180g Patty, cheddar cheese, housemade burger sauce, salad, tomatoes, pickled cucumber, caramilized onions'), \n",
    "(3, 'Bacon Cheesebuger', 'Main Dishes', 7.1, '180g Patty, bacon, cheddar cheese, housemade burger sauce, salad, tomatoes, pickled cucumber, caramilized onions'), \n",
    "(4, 'Double Cheeseburger', 'Main Dishes', 7.5, '2x 180g Patty, , cheddar cheese, housemade burger sauce, salad, tomatoes, pickled cucumber, caramilized onions'), (5, 'Water', 'Drinks', 3.5, '5l Ensinger Sport'), (6, 'Augustiner Helles', 'Drinks', 4.2, ''), (7, 'French Fries', 'Side Dishes', 3.9, 'Crispy housemade frenchfries'), (8, 'Chicken Wings', 'Side Dishes', 6.2, 'Crispy housemade chicken wings with sweet honey mustard sauce'), (9, 'Ceasar Salad', 'Side Dishes', 4.5, 'Fresh ceasar salad with housemade ceasar dressing')]\n",
    "\n"
   ]
  },
  {
   "cell_type": "markdown",
   "metadata": {},
   "source": [
    "def delete_items(table_id, item_id, amount):\n",
    "    s = \"\"\" \n",
    "        DELETE FROM restbesttables\n",
    "        WHERE id  IN (\n",
    "            SELECT id \n",
    "            FROM restbesttables rt\n",
    "            WHERE rt.table_id = %s\n",
    "            AND rt.item_id = %s\n",
    "            limit %s) \n",
    "        \"\"\" %(table_id, item_id, amount)"
   ]
  },
  {
   "cell_type": "code",
   "execution_count": null,
   "metadata": {},
   "outputs": [],
   "source": [
    "def delete_items(table_id, item_id, amount):\n",
    "    s = \"\"\" \n",
    "        DELETE FROM restbesttables\n",
    "        WHERE id  IN (\n",
    "            SELECT id \n",
    "            FROM restbesttables rt\n",
    "            WHERE rt.table_id = %s\n",
    "            AND rt.item_id = %s\n",
    "            limit %s) \n",
    "        \"\"\" %(table_id, item_id, amount)\n",
    "    return s"
   ]
  },
  {
   "cell_type": "code",
   "execution_count": null,
   "metadata": {},
   "outputs": [],
   "source": [
    "delete_items(\"55555\", \"1\", \"1\")"
   ]
  },
  {
   "cell_type": "code",
   "execution_count": null,
   "metadata": {},
   "outputs": [],
   "source": []
  },
  {
   "cell_type": "markdown",
   "metadata": {},
   "source": [
    "1. Button für liste\n",
    "2. submit und send querry"
   ]
  },
  {
   "cell_type": "code",
   "execution_count": 79,
   "metadata": {},
   "outputs": [],
   "source": [
    "og_list = {'55555': [(3, 'Bacon Cheesebuger', 'Main Dishes', 7.1, 3, 6), (4, 'Double Cheeseburger', 'Main Dishes', 7.5, 4, 3), (5, 'Water', 'Drinks', 3.5, 5, 5), (7, 'French Fries', 'Side Dishes', 3.9, 7, 3), (8, 'Chicken Wings', 'Side Dishes', 6.2, 8, 3), (9, 'Ceasar Salad', 'Side Dishes', 4.5, 9, 7)], '6969': [(1, 'Hamburger', 'Main Dishes', 6.0, 1, 1)], '123': [(3, 'Bacon Cheesebuger', 'Main Dishes', 7.1, 3, 4), (5, 'Water', 'Drinks', 3.5, 5, 8), (7, 'French Fries', 'Side Dishes', 3.9, 7, 2), (9, 'Ceasar Salad', 'Side Dishes', 4.5, 9, 2)], '69': [(1, 'Hamburger', 'Main Dishes', 6.0, 1, 1), (2, 'Chesseburger', 'Main Dishes', 6.69, 2, 1)]}\n",
    "dif_list= {'55555, 3': '6', '55555, 4': '0', '55555, 5': '0', '55555, 7': '3', '55555, 8': '3', '55555, 9': '7', '6969, 1': '1', '123, 3': '4', '123, 5': '8', '123, 7': '2', '123, 9': '2', '69, 1': '1', '69, 2': '1', 'Submit': 'Enter'}\n"
   ]
  },
  {
   "cell_type": "code",
   "execution_count": 86,
   "metadata": {},
   "outputs": [
    {
     "data": {
      "text/plain": [
       "[('55555', '4', '3'), ('55555', '5', '5')]"
      ]
     },
     "execution_count": 86,
     "metadata": {},
     "output_type": "execute_result"
    }
   ],
   "source": [
    "n_og_list = []\n",
    "for x in og_list:\n",
    "    for n in og_list[x]:\n",
    "        a = n[0]\n",
    "        b = n[5]\n",
    "        t = (x,a,b)\n",
    "        n_og_list.append(t)\n",
    "\n",
    "n_dif_list = []\n",
    "if \"Submit\" in dif_list:\n",
    "    del dif_list['Submit']\n",
    "for x in dif_list:\n",
    "    c = dif_list[x]\n",
    "    x = x.split(\", \")\n",
    "    t = (x[0],int(x[1]),int(c))\n",
    "    n_dif_list.append(t)\n",
    "\n",
    "items = []\n",
    "for a in n_og_list:\n",
    "    for b in n_dif_list:\n",
    "        if a[0] == b[0] and a[1] == b[1] and a[2] != b[2]:\n",
    "            t = (a[0],str(a[1]),str(a[2]-b[2]))\n",
    "            items.append(t)\n",
    "items"
   ]
  },
  {
   "cell_type": "code",
   "execution_count": 88,
   "metadata": {},
   "outputs": [
    {
     "name": "stdout",
     "output_type": "stream",
     "text": [
      "55555 4 3\n",
      "55555 5 5\n"
     ]
    }
   ],
   "source": [
    "for x in items:\n",
    "    a = x[0]\n",
    "    b = x[1]\n",
    "    c = x[2]\n",
    "    print(a,b,c)"
   ]
  },
  {
   "cell_type": "code",
   "execution_count": null,
   "metadata": {},
   "outputs": [],
   "source": [
    "<h3>Menu</h3>\n",
    "<form method=\"POST\" action=\"#\">\n",
    "  {%for x in menu_list%}\n",
    "  <p>\n",
    "    {{x[1]}}\n",
    "    <input type=\"number\" name=\"{{x[0]}}\" min=\"0\" />\n",
    "  </p>\n",
    "  {%endfor%}\n",
    "  <p><input type=\"submit\" name=\"Submit\" value=\"Go to cart\" /></p>\n",
    "</form>"
   ]
  },
  {
   "cell_type": "code",
   "execution_count": 2,
   "metadata": {},
   "outputs": [
    {
     "data": {
      "text/plain": [
       "{'9': '4'}"
      ]
     },
     "execution_count": 2,
     "metadata": {},
     "output_type": "execute_result"
    }
   ],
   "source": [
    "dict_cart = {'1': '0', '2': '0', '3': '0', '4': '0', '5': '0', '6': '0', '7': '0', '8': '0', '9': '4'}\n",
    "n_dict_cart ={}\n",
    "for x in dict_cart:\n",
    "    if dict_cart[x] != '0':\n",
    "        n_dict_cart[x] = dict_cart[x]\n",
    "n_dict_cart\n"
   ]
  },
  {
   "cell_type": "code",
   "execution_count": null,
   "metadata": {},
   "outputs": [],
   "source": []
  }
 ],
 "metadata": {
  "interpreter": {
   "hash": "e7370f93d1d0cde622a1f8e1c04877d8463912d04d973331ad4851f04de6915a"
  },
  "kernelspec": {
   "display_name": "Python 3.10.2 64-bit",
   "language": "python",
   "name": "python3"
  },
  "language_info": {
   "codemirror_mode": {
    "name": "ipython",
    "version": 3
   },
   "file_extension": ".py",
   "mimetype": "text/x-python",
   "name": "python",
   "nbconvert_exporter": "python",
   "pygments_lexer": "ipython3",
   "version": "3.10.2"
  },
  "orig_nbformat": 4
 },
 "nbformat": 4,
 "nbformat_minor": 2
}
