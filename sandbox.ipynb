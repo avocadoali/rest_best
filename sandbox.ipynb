{
 "cells": [
  {
   "cell_type": "code",
   "execution_count": 111,
   "metadata": {},
   "outputs": [
    {
     "name": "stdout",
     "output_type": "stream",
     "text": [
      "{'1': '', '2': '', '3': '', '4': '', '5': '', '6': '', '7': '', '8': '', '9': '2', 'Submit': 'Submit'}\n"
     ]
    }
   ],
   "source": [
    "dict_cart = {'1': '', '2': '', '3': '', '4': '', '5': '', '6': '', '7': '', '8': '', '9': '2', 'Submit': 'Submit'}\n",
    "print(dict_cart)\n"
   ]
  },
  {
   "cell_type": "code",
   "execution_count": 112,
   "metadata": {},
   "outputs": [
    {
     "name": "stdout",
     "output_type": "stream",
     "text": [
      "[(1, 'Hamburger', 'Main Dishes', 6.0, '180g Patty, housemade burger sauce, salad, tomatoes, pickled cucumber, caramilized onions'), (2, 'Chesseburger', 'Main Dishes', 6.69, '180g Patty, cheddar cheese, housemade burger sauce, salad, tomatoes, pickled cucumber, caramilized onions'), (3, 'Bacon Cheesebuger', 'Main Dishes', 7.1, '180g Patty, bacon, cheddar cheese, housemade burger sauce, salad, tomatoes, pickled cucumber, caramilized onions'), (4, 'Double Cheeseburger', 'Main Dishes', 7.5, '2x 180g Patty, , cheddar cheese, housemade burger sauce, salad, tomatoes, pickled cucumber, caramilized onions'), (5, 'Water', 'Drinks', 3.5, '5l Ensinger Sport'), (6, 'Augustiner Helles', 'Drinks', 4.2, ''), (7, 'French Fries', 'Side Dishes', 3.9, 'Crispy housemade frenchfries'), (8, 'Chicken Wings', 'Side Dishes', 6.2, 'Crispy housemade chicken wings with sweet honey mustard sauce'), (9, 'Ceasar Salad', 'Side Dishes', 4.5, 'Fresh ceasar salad with housemade ceasar dressing')]\n"
     ]
    }
   ],
   "source": [
    "\n",
    "menu = [(1, 'Hamburger', 'Main Dishes', 6.0, '180g Patty, housemade burger sauce, salad, tomatoes, pickled cucumber, caramilized onions'), (2, 'Chesseburger', 'Main Dishes', 6.69, '180g Patty, cheddar cheese, housemade burger sauce, salad, tomatoes, pickled cucumber, caramilized onions'), (3, 'Bacon Cheesebuger', 'Main Dishes', 7.1, '180g Patty, bacon, cheddar cheese, housemade burger sauce, salad, tomatoes, pickled cucumber, caramilized onions'), (4, 'Double Cheeseburger', 'Main Dishes', 7.5, '2x 180g Patty, , cheddar cheese, housemade burger sauce, salad, tomatoes, pickled cucumber, caramilized onions'), (5, 'Water', 'Drinks', 3.5, '5l Ensinger Sport'), (6, 'Augustiner Helles', 'Drinks', 4.2, ''), (7, 'French Fries', 'Side Dishes', 3.9, 'Crispy housemade frenchfries'), (8, 'Chicken Wings', 'Side Dishes', 6.2, 'Crispy housemade chicken wings with sweet honey mustard sauce'), (9, 'Ceasar Salad', 'Side Dishes', 4.5, 'Fresh ceasar salad with housemade ceasar dressing')]\n",
    "print(menu)"
   ]
  },
  {
   "cell_type": "code",
   "execution_count": 113,
   "metadata": {},
   "outputs": [
    {
     "name": "stdout",
     "output_type": "stream",
     "text": [
      "{'9': '2'}\n"
     ]
    }
   ],
   "source": [
    "dict_cart = { k:v for k, v in dict_cart.items() if v }\n",
    "del dict_cart['Submit']\n",
    "print(dict_cart)"
   ]
  },
  {
   "cell_type": "code",
   "execution_count": 114,
   "metadata": {},
   "outputs": [
    {
     "data": {
      "text/plain": [
       "{'9': ['2',\n",
       "  (9,\n",
       "   'Ceasar Salad',\n",
       "   'Side Dishes',\n",
       "   4.5,\n",
       "   'Fresh ceasar salad with housemade ceasar dressing')]}"
      ]
     },
     "execution_count": 114,
     "metadata": {},
     "output_type": "execute_result"
    }
   ],
   "source": [
    "new_menu =  {}\n",
    "for x in dict_cart:\n",
    "    i = int(x)\n",
    "    new_menu[x] = [dict_cart[x], menu[i-1]]\n",
    "\n",
    "new_menu\n"
   ]
  },
  {
   "cell_type": "code",
   "execution_count": 131,
   "metadata": {},
   "outputs": [
    {
     "name": "stdout",
     "output_type": "stream",
     "text": [
      "{'9': ['2', (9, 'Ceasar Salad', 'Side Dishes', 4.5, 'Fresh ceasar salad with housemade ceasar dressing')]}\n"
     ]
    }
   ],
   "source": [
    "list_cart = new_menu\n",
    "print(list_cart)"
   ]
  },
  {
   "cell_type": "code",
   "execution_count": 124,
   "metadata": {},
   "outputs": [
    {
     "name": "stdout",
     "output_type": "stream",
     "text": [
      "Ceasar Salad\n"
     ]
    }
   ],
   "source": [
    "print(list_cart['9'][1][1])"
   ]
  },
  {
   "cell_type": "code",
   "execution_count": 139,
   "metadata": {},
   "outputs": [
    {
     "name": "stdout",
     "output_type": "stream",
     "text": [
      "9\n",
      "2\n",
      "Hello\n",
      "Hello\n"
     ]
    }
   ],
   "source": [
    "for x in list_cart:\n",
    "    print(x)\n",
    "    n= list_cart[x][0]\n",
    "    print(n)\n",
    "\n",
    "for i in range(int(n)):\n",
    "    print(\"Hello\")"
   ]
  },
  {
   "cell_type": "code",
   "execution_count": null,
   "metadata": {},
   "outputs": [],
   "source": []
  },
  {
   "cell_type": "code",
   "execution_count": null,
   "metadata": {},
   "outputs": [],
   "source": []
  },
  {
   "cell_type": "code",
   "execution_count": null,
   "metadata": {},
   "outputs": [],
   "source": []
  },
  {
   "cell_type": "code",
   "execution_count": 125,
   "metadata": {},
   "outputs": [],
   "source": [
    "def submit_order_by_table(table_ID, item_ID):\n",
    "    s = \"INSERT INTO restbesttables (table_id, item_id) VALUES ( \"\n",
    "    s += table_ID \n",
    "    s += \",\"\n",
    "    s += item_ID\n",
    "    s += \");\"\n",
    "    return s\n",
    "\n"
   ]
  },
  {
   "cell_type": "code",
   "execution_count": 126,
   "metadata": {},
   "outputs": [
    {
     "data": {
      "text/plain": [
       "'INSERT INTO restbesttables (table_id, item_id) VALUES ( 234,12);'"
      ]
     },
     "execution_count": 126,
     "metadata": {},
     "output_type": "execute_result"
    }
   ],
   "source": [
    "submit_order_by_table(\"234\", \"12\")"
   ]
  },
  {
   "cell_type": "code",
   "execution_count": null,
   "metadata": {},
   "outputs": [],
   "source": []
  },
  {
   "cell_type": "code",
   "execution_count": 145,
   "metadata": {},
   "outputs": [],
   "source": [
    "def get_order_of_table(table_ID):\n",
    "    s = \"Select * from restbesttables where table_id='\"\n",
    "    s += table_ID \n",
    "    s += \"');\"\n",
    "    return s"
   ]
  },
  {
   "cell_type": "code",
   "execution_count": 146,
   "metadata": {},
   "outputs": [
    {
     "data": {
      "text/plain": [
       "\"Select * from restbesttables where table_id='234');\""
      ]
     },
     "execution_count": 146,
     "metadata": {},
     "output_type": "execute_result"
    }
   ],
   "source": [
    "get_order_of_table(\"234\")"
   ]
  },
  {
   "cell_type": "code",
   "execution_count": null,
   "metadata": {},
   "outputs": [],
   "source": []
  },
  {
   "cell_type": "code",
   "execution_count": 153,
   "metadata": {},
   "outputs": [],
   "source": [
    "def get_order_of_table(table_ID):\n",
    "    s = \"with get_all as (\"\n",
    "    s +=\"SELECT rm.id as id, rm.name, rm.type,rm.price \"\n",
    "    s +=\"FROM restbesttables rt, restbestmenu rm \"\n",
    "    s +=\"where rt.table_id = \"\n",
    "    s +=table_ID\n",
    "    s +=\" and rm.id = rt.item_id \"\n",
    "    s +=\"), get_anz as (\"\n",
    "    s +=\"SELECT rm.id iddd, count(*) cnt \"\n",
    "    s +=\"FROM restbesttables rt, restbestmenu rm \"\n",
    "    s +=\"where rt.table_id = \"\n",
    "    s +=table_ID\n",
    "    s +=\" and rm.id = rt.item_id \"\n",
    "    s +=\"group by rm.id\"\n",
    "    s +=\") \"\n",
    "    s +=\"select distinct * \"\n",
    "    s +=\"from get_all a, get_anz b \"\n",
    "    s +=\"where a.id = b.iddd;\"\n",
    "    return s"
   ]
  },
  {
   "cell_type": "code",
   "execution_count": 152,
   "metadata": {},
   "outputs": [
    {
     "data": {
      "text/plain": [
       "'with get_all as (SELECT rm.id as id, rm.name, rm.type,rm.price FROM restbesttables rt, restbestmenu rm where rt.table_id = 123 and rm.id = rt.item_id ), get_anz as (SELECT rm.id iddd, count(*) cnt FROM restbesttables rt, restbestmenu rm where rt.table_id = 123 and rm.id = rt.item_id group by rm.id) select distinct * from get_all a, get_anz b where a.id = b.iddd;'"
      ]
     },
     "execution_count": 152,
     "metadata": {},
     "output_type": "execute_result"
    }
   ],
   "source": [
    "get_order_of_table(\"123\")"
   ]
  },
  {
   "cell_type": "markdown",
   "metadata": {},
   "source": [
    "1. get all distinct table\n",
    "2. for each table get orders\n"
   ]
  },
  {
   "cell_type": "code",
   "execution_count": null,
   "metadata": {},
   "outputs": [],
   "source": [
    "    \n",
    "def get_distinct_table():\n",
    "    s = \"select distinct(table_id) from restbesttables\"\n",
    "\n"
   ]
  },
  {
   "cell_type": "code",
   "execution_count": 155,
   "metadata": {},
   "outputs": [
    {
     "data": {
      "text/plain": [
       "[(69,), (6969,), (123,)]"
      ]
     },
     "execution_count": 155,
     "metadata": {},
     "output_type": "execute_result"
    }
   ],
   "source": [
    "table = [(69,), (6969,), (123,)]\n",
    "table"
   ]
  },
  {
   "cell_type": "code",
   "execution_count": 166,
   "metadata": {},
   "outputs": [
    {
     "data": {
      "text/plain": [
       "[69, 6969, 123]"
      ]
     },
     "execution_count": 166,
     "metadata": {},
     "output_type": "execute_result"
    }
   ],
   "source": [
    "list = []\n",
    "for x in table:\n",
    "    list.append(x[0])\n",
    "\n",
    "list"
   ]
  },
  {
   "cell_type": "code",
   "execution_count": 167,
   "metadata": {},
   "outputs": [
    {
     "data": {
      "text/plain": [
       "{'2123': [(3, 'Bacon Cheesebuger', 'Main Dishes', 7.1, 3, 4),\n",
       "  (5, 'Water', 'Drinks', 3.5, 5, 8),\n",
       "  (7, 'French Fries', 'Side Dishes', 3.9, 7, 2),\n",
       "  (9, 'Ceasar Salad', 'Side Dishes', 4.5, 9, 2)]}"
      ]
     },
     "execution_count": 167,
     "metadata": {},
     "output_type": "execute_result"
    }
   ],
   "source": [
    "order_of_one_table = [(3, 'Bacon Cheesebuger', 'Main Dishes', 7.1, 3, 4), (5, 'Water', 'Drinks', 3.5, 5, 8), (7, 'French Fries', 'Side Dishes', 3.9, 7, 2), (9, 'Ceasar Salad', 'Side Dishes', 4.5, 9, 2)]\n",
    "dict = {}\n",
    "dict[\"2123\"] = order_of_one_table\n",
    "dict\n",
    "\n"
   ]
  },
  {
   "cell_type": "code",
   "execution_count": null,
   "metadata": {},
   "outputs": [],
   "source": []
  },
  {
   "cell_type": "code",
   "execution_count": null,
   "metadata": {},
   "outputs": [],
   "source": [
    "{'69': [(1, 'Hamburger', 'Main Dishes', 6.0, 1, 1), \n",
    "        (2, 'Chesseburger', 'Main Dishes', 6.69, 2, 1)], \n",
    "'6969': [(1, 'Hamburger', 'Main Dishes', 6.0, 1, 1)], \n",
    "'123': [(3, 'Bacon Cheesebuger', 'Main Dishes', 7.1, 3, 4), \n",
    "        (5, 'Water', 'Drinks', 3.5, 5, 8), \n",
    "        (7, 'French Fries', 'Side Dishes', 3.9, 7, 2), \n",
    "        (9, 'Ceasar Salad', 'Side Dishes', 4.5, 9, 2)]}"
   ]
  },
  {
   "cell_type": "markdown",
   "metadata": {},
   "source": [
    "69\n",
    "[(1, 'Hamburger', 'Main Dishes', 6.0, 1, 1), (2, 'Chesseburger', 'Main Dishes', 6.69, 2, 1)]\n",
    "\n",
    "\n",
    "this ist temp\n",
    "6969\n",
    "[(1, 'Hamburger', 'Main Dishes', 6.0, 1, 1)]\n",
    "\n",
    "\n",
    "this ist temp\n",
    "123\n",
    "[(3, 'Bacon Cheesebuger', 'Main Dishes', 7.1, 3, 4), (5, 'Water', 'Drinks', 3.5, 5, 8), (7, 'French Fries', 'Side Dishes', 3.9, 7, 2), (9, 'Ceasar Salad', 'Side Dishes', 4.5, 9, 2)]\n",
    "\n",
    "\n",
    "[(1, 'Hamburger', 'Main Dishes', 6.0, 1, 1), (2, 'Chesseburger', 'Main Dishes', 6.69, 2, 1)]\n",
    "\n",
    "\n",
    "[(3, 'Bacon Cheesebuger', 'Main Dishes', 7.1, 3, 4), (5, 'Water', 'Drinks', 3.5, 5, 8), (7, 'French Fries', 'Side Dishes', 3.9, 7, 2), (9, 'Ceasar Salad', 'Side Dishes', 4.5, 9, 2)]"
   ]
  }
 ],
 "metadata": {
  "interpreter": {
   "hash": "e7370f93d1d0cde622a1f8e1c04877d8463912d04d973331ad4851f04de6915a"
  },
  "kernelspec": {
   "display_name": "Python 3.10.2 64-bit",
   "language": "python",
   "name": "python3"
  },
  "language_info": {
   "codemirror_mode": {
    "name": "ipython",
    "version": 3
   },
   "file_extension": ".py",
   "mimetype": "text/x-python",
   "name": "python",
   "nbconvert_exporter": "python",
   "pygments_lexer": "ipython3",
   "version": "3.10.2"
  },
  "orig_nbformat": 4
 },
 "nbformat": 4,
 "nbformat_minor": 2
}
